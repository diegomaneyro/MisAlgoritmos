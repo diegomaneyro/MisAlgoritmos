{
 "cells": [
  {
   "cell_type": "markdown",
   "metadata": {},
   "source": [
    "ESCRIBIR UN ALGORITMO QUE PIDA, NOMBRE, APELLIDO, TELÉFONO Y EDAD DE UNA\n",
    "PERSONA Y LUEGO LO MUESTRE POR PANTALLA"
   ]
  },
  {
   "cell_type": "code",
   "execution_count": null,
   "metadata": {},
   "outputs": [],
   "source": []
  }
 ],
 "metadata": {
  "language_info": {
   "name": "python"
  }
 },
 "nbformat": 4,
 "nbformat_minor": 2
}
