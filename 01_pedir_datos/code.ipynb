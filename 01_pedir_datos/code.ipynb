{
 "cells": [
  {
   "cell_type": "markdown",
   "metadata": {},
   "source": [
    "ESCRIBIR UN ALGORITMO QUE PIDA, NOMBRE, APELLIDO, TELÉFONO Y EDAD DE UNA\n",
    "PERSONA Y LUEGO LO MUESTRE POR PANTALLA"
   ]
  },
  {
   "cell_type": "code",
   "execution_count": 4,
   "metadata": {},
   "outputs": [
    {
     "name": "stdout",
     "output_type": "stream",
     "text": [
      "Nombre: juan apellido: perez telefono: 11654565 edad: 45\n"
     ]
    }
   ],
   "source": [
    "# solicito datos\n",
    "nombre = input('ingrese nombre: ')\n",
    "apellido = input('Ingrese apellido: ')\n",
    "telefono = int(input('ingrese telefono: '))\n",
    "edad = int(input('Ingrese edad: '))\n",
    "# Imprimo resultados\n",
    "print(f'Nombre: {nombre} apellido: {apellido} telefono: {telefono} edad: {edad}')"
   ]
  }
 ],
 "metadata": {
  "kernelspec": {
   "display_name": "Python 3",
   "language": "python",
   "name": "python3"
  },
  "language_info": {
   "codemirror_mode": {
    "name": "ipython",
    "version": 3
   },
   "file_extension": ".py",
   "mimetype": "text/x-python",
   "name": "python",
   "nbconvert_exporter": "python",
   "pygments_lexer": "ipython3",
   "version": "3.12.1"
  }
 },
 "nbformat": 4,
 "nbformat_minor": 2
}
