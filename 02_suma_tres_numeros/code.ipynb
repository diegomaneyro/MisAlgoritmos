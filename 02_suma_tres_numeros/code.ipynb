{
 "cells": [
  {
   "cell_type": "code",
   "execution_count": 1,
   "metadata": {},
   "outputs": [
    {
     "name": "stdout",
     "output_type": "stream",
     "text": [
      "La suma de los tres numeros es: 13\n"
     ]
    }
   ],
   "source": [
    "# solicito los datos\n",
    "num1 = int(input('Ingrese primer numero: '))\n",
    "num2 = int(input('Ingrese segundo numero: '))\n",
    "num3 = int(input('Ingrese tercer numero: '))\n",
    "\n",
    "# realizo los calculos\n",
    "resultado = num1 + num2 + num3\n",
    "\n",
    "# muestro el resultado\n",
    "print(f'La suma de los tres numeros es: {resultado}')"
   ]
  }
 ],
 "metadata": {
  "kernelspec": {
   "display_name": "Python 3",
   "language": "python",
   "name": "python3"
  },
  "language_info": {
   "codemirror_mode": {
    "name": "ipython",
    "version": 3
   },
   "file_extension": ".py",
   "mimetype": "text/x-python",
   "name": "python",
   "nbconvert_exporter": "python",
   "pygments_lexer": "ipython3",
   "version": "3.12.1"
  }
 },
 "nbformat": 4,
 "nbformat_minor": 2
}
