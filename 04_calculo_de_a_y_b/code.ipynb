{
 "cells": [
  {
   "cell_type": "code",
   "execution_count": 1,
   "metadata": {},
   "outputs": [
    {
     "name": "stdout",
     "output_type": "stream",
     "text": [
      "La suma de A y B es: 7\n",
      "La resta de A y B es: -3\n",
      "La multiplicacion de la suma y la esta es: -21\n"
     ]
    }
   ],
   "source": [
    "# Calulos con A y B\n",
    "a = int(input('Ingre el valor de A:'))\n",
    "b = int(input('Ingrese el valore de B:'))\n",
    "suma = a + b\n",
    "resta = a - b\n",
    "multiplicacion = suma  * resta\n",
    "print(f'La suma de A y B es: {suma}')\n",
    "print(f'La resta de A y B es: {resta}')\n",
    "print(f'La multiplicacion de la suma y la esta es: {multiplicacion}')"
   ]
  }
 ],
 "metadata": {
  "kernelspec": {
   "display_name": "Python 3",
   "language": "python",
   "name": "python3"
  },
  "language_info": {
   "codemirror_mode": {
    "name": "ipython",
    "version": 3
   },
   "file_extension": ".py",
   "mimetype": "text/x-python",
   "name": "python",
   "nbconvert_exporter": "python",
   "pygments_lexer": "ipython3",
   "version": "3.12.1"
  }
 },
 "nbformat": 4,
 "nbformat_minor": 2
}
