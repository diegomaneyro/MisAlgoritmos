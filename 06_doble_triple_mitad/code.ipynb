{
 "cells": [
  {
   "cell_type": "code",
   "execution_count": 1,
   "metadata": {},
   "outputs": [
    {
     "name": "stdout",
     "output_type": "stream",
     "text": [
      "Doble de num 1:  12.0\n",
      "Triple de num 1: 18.0\n",
      "Mitad de num 1: 3.0\n",
      "Doble de num 2:  4.0\n",
      "Triple de num 2: 6.0\n",
      "Mitad de num 2: 2.5\n",
      "Doble de num 3:  10.0\n",
      "Triple de num 3: 15.0\n",
      "Mitad de num 3: 2.5\n"
     ]
    }
   ],
   "source": [
    "# Doble, triple y mitad de 3 numeros ingresados \n",
    "num1 = float(input('Ingrese 1° numero: '))\n",
    "num2 = float(input('Ingrese 2° numero: '))\n",
    "num3 = float(input('Ingrese 3° numero: '))\n",
    "\n",
    "# Realizar los calculos\n",
    "doble_1 = num1 * 2\n",
    "triple_1 = num1 * 3\n",
    "mitad_1 = num1 / 2\n",
    "\n",
    "doble_2 = num2 * 2\n",
    "triple_2 = num2 * 3\n",
    "mitad_2 = num3 / 2\n",
    "\n",
    "doble_3 = num3 * 2\n",
    "triple_3 = num3 * 3\n",
    "mitad_3 = num3 / 2\n",
    "\n",
    "# Mostrar resultados\n",
    "print(f'Doble de num 1:  {doble_1}')\n",
    "print(f'Triple de num 1: {triple_1}')\n",
    "print(f'Mitad de num 1: {mitad_1}')\n",
    "\n",
    "print(f'Doble de num 2:  {doble_2}')\n",
    "print(f'Triple de num 2: {triple_2}')\n",
    "print(f'Mitad de num 2: {mitad_2}')\n",
    "\n",
    "print(f'Doble de num 3:  {doble_3}')\n",
    "print(f'Triple de num 3: {triple_3}')\n",
    "print(f'Mitad de num 3: {mitad_3}')\n"
   ]
  }
 ],
 "metadata": {
  "kernelspec": {
   "display_name": "Python 3",
   "language": "python",
   "name": "python3"
  },
  "language_info": {
   "codemirror_mode": {
    "name": "ipython",
    "version": 3
   },
   "file_extension": ".py",
   "mimetype": "text/x-python",
   "name": "python",
   "nbconvert_exporter": "python",
   "pygments_lexer": "ipython3",
   "version": "3.12.1"
  }
 },
 "nbformat": 4,
 "nbformat_minor": 2
}
