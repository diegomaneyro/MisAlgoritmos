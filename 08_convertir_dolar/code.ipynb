{
 "cells": [
  {
   "cell_type": "code",
   "execution_count": null,
   "metadata": {},
   "outputs": [],
   "source": [
    "# convertir pesos a dolar\n",
    "\n",
    "# Ingreso de datos\n",
    "monto = float(input('Ingrese monto en pesos: '))\n",
    "\n",
    "# Conversion de moneda\n",
    "cotizacion = monto / 15.40\n",
    "\n",
    "# Mostrar resultados\n",
    "print(f'El monto en pesos ingreado equivale a {cotizacion} dolares')\n"
   ]
  }
 ],
 "metadata": {
  "language_info": {
   "name": "python"
  }
 },
 "nbformat": 4,
 "nbformat_minor": 2
}
