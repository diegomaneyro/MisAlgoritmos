{
 "cells": [
  {
   "cell_type": "code",
   "execution_count": 9,
   "metadata": {},
   "outputs": [
    {
     "name": "stdout",
     "output_type": "stream",
     "text": [
      "La suma de a y b es : 6.0\n",
      "La resta de a y b es: 6.0\n",
      "La multiplicacion de a y b es : 0.0\n",
      "La division de a y b es : No es posible dividir por cero!!\n",
      "El valor de a es: 0.0\n",
      "El valor de b es: 6.0\n"
     ]
    }
   ],
   "source": [
    "# Ingreso los datos\n",
    "a = float(input('Ingrese el valor de a: '))\n",
    "b = float(input('Ingrese el valor de b: '))\n",
    "\n",
    "# Realizao las operaciones\n",
    "suma = a + b\n",
    "resta = a - b\n",
    "mult = a * b\n",
    "if(b != 0):\n",
    "    div = a / b\n",
    "else:\n",
    "    div = ' No es posible dividir por cero!!'\n",
    "\n",
    "# realizao el intercambio de las variables\n",
    "aux = a\n",
    "a = b\n",
    "b = aux\n",
    "\n",
    "# Muestro los resultados\n",
    "print(f'La suma de a y b es : {suma}\\nLa resta de a y b es: {resta}\\nLa multiplicacion de a y b es : {mult}\\nLa division de a y b es :{div}')\n",
    "\n",
    "# Muestro el intercambio de variables\n",
    "print(f'El valor de a es: {a}\\nEl valor de b es: {b}')"
   ]
  }
 ],
 "metadata": {
  "kernelspec": {
   "display_name": "Python 3",
   "language": "python",
   "name": "python3"
  },
  "language_info": {
   "codemirror_mode": {
    "name": "ipython",
    "version": 3
   },
   "file_extension": ".py",
   "mimetype": "text/x-python",
   "name": "python",
   "nbconvert_exporter": "python",
   "pygments_lexer": "ipython3",
   "version": "3.12.1"
  }
 },
 "nbformat": 4,
 "nbformat_minor": 2
}
