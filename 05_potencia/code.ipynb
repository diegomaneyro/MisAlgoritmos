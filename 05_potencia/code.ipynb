{
 "cells": [
  {
   "cell_type": "code",
   "execution_count": 7,
   "metadata": {},
   "outputs": [
    {
     "name": "stdout",
     "output_type": "stream",
     "text": [
      "La potencia de 5 elevado al 3 es: 125\n"
     ]
    }
   ],
   "source": [
    "# Potencia de un numero\n",
    "base = int(input('Ingrese base: '))\n",
    "exponente = int(input('Ingrese exponente: '))\n",
    "resultado = base ** exponente\n",
    "print(f'La potencia de {base} elevado al {exponente} es: {resultado}')"
   ]
  }
 ],
 "metadata": {
  "kernelspec": {
   "display_name": "Python 3",
   "language": "python",
   "name": "python3"
  },
  "language_info": {
   "codemirror_mode": {
    "name": "ipython",
    "version": 3
   },
   "file_extension": ".py",
   "mimetype": "text/x-python",
   "name": "python",
   "nbconvert_exporter": "python",
   "pygments_lexer": "ipython3",
   "version": "3.12.1"
  }
 },
 "nbformat": 4,
 "nbformat_minor": 2
}
