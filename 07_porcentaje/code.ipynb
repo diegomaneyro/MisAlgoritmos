{
 "cells": [
  {
   "cell_type": "code",
   "execution_count": 4,
   "metadata": {},
   "outputs": [
    {
     "name": "stdout",
     "output_type": "stream",
     "text": [
      "El 80% de 500.0 es: 400.0\n",
      "El 20% de 500.0 es: 100.0\n",
      "El 15% de 500.0 es: 75.0\n"
     ]
    }
   ],
   "source": [
    "# Porcentajes de un importe dado\n",
    "importe = float(input('Ingrese importe en pesos: '))\n",
    "ochenta_porciento = (importe * 80) / 100\n",
    "veinte_porciento = (importe * 20) / 100\n",
    "quince_porciento = (importe * 15) / 100\n",
    "\n",
    "# Mostrar resultados\n",
    "print(f'El 80% de {importe} es: {ochenta_porciento}')\n",
    "print(f'El 20% de {importe} es: {veinte_porciento}')\n",
    "print(f'El 15% de {importe} es: {quince_porciento}')"
   ]
  }
 ],
 "metadata": {
  "kernelspec": {
   "display_name": "Python 3",
   "language": "python",
   "name": "python3"
  },
  "language_info": {
   "codemirror_mode": {
    "name": "ipython",
    "version": 3
   },
   "file_extension": ".py",
   "mimetype": "text/x-python",
   "name": "python",
   "nbconvert_exporter": "python",
   "pygments_lexer": "ipython3",
   "version": "3.12.1"
  }
 },
 "nbformat": 4,
 "nbformat_minor": 2
}
